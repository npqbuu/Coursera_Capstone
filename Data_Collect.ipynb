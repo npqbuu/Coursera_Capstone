{
 "cells": [
  {
   "cell_type": "markdown",
   "metadata": {},
   "source": [
    "### Import libraries"
   ]
  },
  {
   "cell_type": "code",
   "execution_count": null,
   "metadata": {},
   "outputs": [],
   "source": [
    "import pandas as pd \n",
    "import numpy as np\n",
    "import json\n",
    "from bs4 import BeautifulSoup\n",
    "import requests"
   ]
  },
  {
   "cell_type": "markdown",
   "metadata": {},
   "source": [
    "### Get NYC Neighborhoods data"
   ]
  },
  {
   "cell_type": "code",
   "execution_count": null,
   "metadata": {},
   "outputs": [],
   "source": [
    "with open('./Data/newyork_data.json') as json_data:\n",
    "    nyc_data = json.load(json_data)\n",
    "nyc_neighborhoods_data = nyc_data['features']\n",
    "\n",
    "#Transform to a pandas dataframe\n",
    "column_names = ['Borough', 'Neighborhood', 'Latitude', 'Longitude'] \n",
    "\n",
    "# instantiate the dataframe\n",
    "nyc_neighborhoods = pd.DataFrame(columns=column_names)\n",
    "for data in nyc_neighborhoods_data:\n",
    "    borough = neighborhood_name = data['properties']['borough'] \n",
    "    neighborhood_name = data['properties']['name']\n",
    "    neighborhood_latlon = data['geometry']['coordinates']\n",
    "    neighborhood_lat = neighborhood_latlon[1]\n",
    "    neighborhood_lon = neighborhood_latlon[0]\n",
    "    \n",
    "    nyc_neighborhoods = nyc_neighborhoods.append({'Borough': borough,\n",
    "                                                  'Neighborhood': neighborhood_name,\n",
    "                                                  'Latitude': neighborhood_lat,\n",
    "                                                  'Longitude': neighborhood_lon}, ignore_index=True)\n",
    "\n",
    "print(nyc_neighborhoods.shape)\n",
    "nyc_neighborhoods.head()"
   ]
  },
  {
   "cell_type": "markdown",
   "metadata": {},
   "source": [
    "### Get Toronto Neighborhoods data"
   ]
  },
  {
   "cell_type": "code",
   "execution_count": null,
   "metadata": {},
   "outputs": [],
   "source": [
    "#Get Canada neighborhoods data from website\n",
    "url = 'https://en.wikipedia.org/wiki/List_of_postal_codes_of_Canada:_M'\n",
    "r  = requests.get(url)\n",
    "canada_neighborhoods_data = r.text\n",
    "\n",
    "soup = BeautifulSoup(canada_neighborhoods_data, 'html.parser')\n",
    "table = soup.find('table').find_all('tr')\n",
    "\n",
    "#Transform to a pandas dataframe\n",
    "column_names = ['PostalCode', 'Borough', 'Neighborhood']\n",
    "canada_neighborhoods = pd.DataFrame(columns=column_names)\n",
    "\n",
    "for index, item in enumerate(table):\n",
    "    if index > 0:\n",
    "        data = item.find_all('td')\n",
    "        postalcode = data[0].text\n",
    "        borough = data[1].text\n",
    "        neighborhood_name  = data[2].text.replace('\\n', '')\n",
    "        if neighborhood_name == 'Not assigned':\n",
    "            neighborhood_name = borough\n",
    "    \n",
    "        canada_neighborhoods = canada_neighborhoods.append({'PostalCode': postalcode,\n",
    "                                                              'Borough': borough,\n",
    "                                                              'Neighborhood': neighborhood_name,\n",
    "                                                              'Latitude': np.nan,\n",
    "                                                              'Longitude': np.nan}, ignore_index=True)\n",
    "canada_neighborhoods = canada_neighborhoods[canada_neighborhoods['Borough'] != 'Not assigned']\n",
    "canada_neighborhoods = canada_neighborhoods.groupby(['PostalCode','Borough']).agg( ','.join).reset_index()\n",
    "\n",
    "#Add coordinates columns\n",
    "coords = pd.read_csv('./Data/Geospatial_Coordinates.csv')\n",
    "canada_neighborhoods = canada_neighborhoods.set_index('PostalCode').join(coords.set_index('Postal Code'), how='inner').reset_index()\n",
    "\n",
    "#Get Toronto neighborhoods data\n",
    "toronto_neighborhoods = canada_neighborhoods[canada_neighborhoods['Borough'].str.contains('Toronto')].reset_index(drop=True)\n",
    "\n",
    "print(toronto_neighborhoods.shape)\n",
    "toronto_neighborhoods.head()"
   ]
  },
  {
   "cell_type": "markdown",
   "metadata": {},
   "source": [
    "### Get venues data"
   ]
  },
  {
   "cell_type": "code",
   "execution_count": null,
   "metadata": {},
   "outputs": [],
   "source": [
    "# Define Foursquare Credentials and Version\n",
    "CLIENT_ID = '5NMOAVIALBOSTNQVCJJRVWT0ZHT1URBDTWHOYBLIENYSQQDD' # your Foursquare ID\n",
    "CLIENT_SECRET = 'R3NSNU03XXZQLAFGUG2JYKEYL1MM3Y5AX2O2X53HGJXY4ECW' # your Foursquare Secret\n",
    "VERSION = '20180605' # Foursquare API version\n",
    "\n",
    "print('Your credentails:')\n",
    "print('CLIENT_ID: ' + CLIENT_ID)\n",
    "print('CLIENT_SECRET:' + CLIENT_SECRET)"
   ]
  },
  {
   "cell_type": "code",
   "execution_count": null,
   "metadata": {},
   "outputs": [],
   "source": [
    "LIMIT = 100\n",
    "\n",
    "def getNearbyVenues(names, latitudes, longitudes, radius=500):\n",
    "    \n",
    "    venues_list=[]\n",
    "    for name, lat, lng in zip(names, latitudes, longitudes):\n",
    "        #print(name)\n",
    "            \n",
    "        # create the API request URL\n",
    "        url = 'https://api.foursquare.com/v2/venues/explore?&client_id={}&client_secret={}&v={}&ll={},{}&radius={}&limit={}'.format(\n",
    "            CLIENT_ID, \n",
    "            CLIENT_SECRET, \n",
    "            VERSION, \n",
    "            lat, \n",
    "            lng, \n",
    "            radius, \n",
    "            LIMIT)\n",
    "            \n",
    "        # make the GET request\n",
    "        results = requests.get(url).json()[\"response\"]['groups'][0]['items']\n",
    "        \n",
    "        # return only relevant information for each nearby venue\n",
    "        venues_list.append([(\n",
    "            name, \n",
    "            lat, \n",
    "            lng, \n",
    "            v['venue']['name'], \n",
    "            v['venue']['location']['lat'], \n",
    "            v['venue']['location']['lng'],  \n",
    "            v['venue']['categories'][0]['name']) for v in results])\n",
    "\n",
    "    nearby_venues = pd.DataFrame([item for venue_list in venues_list for item in venue_list])\n",
    "    nearby_venues.columns = ['Neighborhood', \n",
    "                  'Neighborhood Latitude', \n",
    "                  'Neighborhood Longitude', \n",
    "                  'Venue', \n",
    "                  'Venue Latitude', \n",
    "                  'Venue Longitude', \n",
    "                  'Venue Category']\n",
    "    \n",
    "    return(nearby_venues)"
   ]
  },
  {
   "cell_type": "code",
   "execution_count": null,
   "metadata": {},
   "outputs": [],
   "source": [
    "# Get NYC venues data\n",
    "nyc_venues = getNearbyVenues(names=nyc_neighborhoods['Neighborhood'],\n",
    "                             latitudes=nyc_neighborhoods['Latitude'],\n",
    "                             longitudes=nyc_neighborhoods['Longitude']\n",
    "                            )\n",
    "nyc_venues.to_csv('./Data/nyc_venues.csv') #export to csv file\n",
    "\n",
    "print(nyc_venues.shape)\n",
    "nyc_venues.head()"
   ]
  },
  {
   "cell_type": "code",
   "execution_count": null,
   "metadata": {},
   "outputs": [],
   "source": [
    "# Get Toronto venues data\n",
    "toronto_venues = getNearbyVenues(names=toronto_neighborhoods['Neighborhood'],\n",
    "                                 latitudes=toronto_neighborhoods['Latitude'],\n",
    "                                 longitudes=toronto_neighborhoods['Longitude']\n",
    "                                )\n",
    "toronto_venues.to_csv('./Data/toronto_venues.csv') #export to csv file\n",
    "\n",
    "print(toronto_venues.shape)\n",
    "toronto_venues.head()"
   ]
  }
 ],
 "metadata": {
  "kernelspec": {
   "display_name": "Python 3",
   "language": "python",
   "name": "python3"
  },
  "language_info": {
   "codemirror_mode": {
    "name": "ipython",
    "version": 3
   },
   "file_extension": ".py",
   "mimetype": "text/x-python",
   "name": "python",
   "nbconvert_exporter": "python",
   "pygments_lexer": "ipython3",
   "version": "3.6.4"
  }
 },
 "nbformat": 4,
 "nbformat_minor": 2
}
